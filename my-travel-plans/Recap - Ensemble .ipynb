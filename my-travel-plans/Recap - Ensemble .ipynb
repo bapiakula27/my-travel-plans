{
 "cells": [
  {
   "cell_type": "markdown",
   "metadata": {},
   "source": [
    "# Recap\n",
    "you learned about a number of techniques used in ensemble methods. Before looking at the techniques, you saw that there are two variables with tradeoffs Bias and Variance.\n",
    "\n",
    "High Bias, Low Variance models tend to underfit data, as they are not flexible. Linear models fall into this category of models.\n",
    "\n",
    "High Variance, Low Bias models tend to overfit data, as they are too flexible. Decision trees fall into this category of models.\n",
    "\n",
    "Ensemble Models\n",
    "In order to find a way to optimize for both variance and bias, we have ensemble methods. Ensemble methods have become some of the most popular methods used to compete in competitions on Kaggle and used in industry across applications.\n",
    "\n",
    "There were two randomization techniques you saw to combat overfitting:\n",
    "\n",
    "Bootstrap the data - that is, sampling the data with replacement and fitting your algorithm and fitting your algorithm to the sampled data.\n",
    "\n",
    "Subset the features - in each split of a decision tree or with each algorithm used an ensemble only a subset of the total possible features are used.\n",
    "\n",
    "Techniques\n",
    "You saw a number of ensemble methods in this lesson including:\n",
    "\n",
    "BaggingClassifier\n",
    "RandomForestClassifier\n",
    "AdaBoostClassifier\n",
    "Another really useful guide for ensemble methods can be found in the documentation here. These methods can also all be extended to regression problems, not just classification.\n",
    "\n",
    "Additional Resources\n",
    "Additionally, here are some great resources on AdaBoost if you'd like to learn some more! https://scikit-learn.org/stable/modules/ensemble.html\n",
    "\n",
    "Here is the original paper from Freund and Schapire. https://cseweb.ucsd.edu/~yfreund/papers/IntroToBoosting.pdf\n",
    "A follow-up paper from the same authors regarding several experiments with Adaboost.\n",
    "A great tutorial by Schapire. http://rob.schapire.net/papers/explaining-adaboost.pdf"
   ]
  },
  {
   "cell_type": "code",
   "execution_count": null,
   "metadata": {},
   "outputs": [],
   "source": []
  }
 ],
 "metadata": {
  "kernelspec": {
   "display_name": "Python 3",
   "language": "python",
   "name": "python3"
  },
  "language_info": {
   "codemirror_mode": {
    "name": "ipython",
    "version": 3
   },
   "file_extension": ".py",
   "mimetype": "text/x-python",
   "name": "python",
   "nbconvert_exporter": "python",
   "pygments_lexer": "ipython3",
   "version": "3.7.3"
  }
 },
 "nbformat": 4,
 "nbformat_minor": 2
}
